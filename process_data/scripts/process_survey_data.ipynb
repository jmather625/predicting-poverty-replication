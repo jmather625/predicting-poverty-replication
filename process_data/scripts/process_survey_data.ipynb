{
 "cells": [
  {
   "cell_type": "markdown",
   "metadata": {},
   "source": [
    "Make sure you download the 2016-2017 Household LSMS survey data for Malawi from https://microdata.worldbank.org/index.php/catalog/lsms. It should be in `../data/input/LSMS/malawi_2016`"
   ]
  },
  {
   "cell_type": "code",
   "execution_count": 1,
   "metadata": {},
   "outputs": [],
   "source": [
    "import pandas as pd\n",
    "import numpy as np\n",
    "import os"
   ]
  },
  {
   "cell_type": "code",
   "execution_count": 19,
   "metadata": {},
   "outputs": [
    {
     "name": "stderr",
     "output_type": "stream",
     "text": [
      "/Applications/anaconda3/lib/python3.7/site-packages/pandas/core/frame.py:4223: SettingWithCopyWarning: \n",
      "A value is trying to be set on a copy of a slice from a DataFrame\n",
      "\n",
      "See the caveats in the documentation: http://pandas.pydata.org/pandas-docs/stable/user_guide/indexing.html#returning-a-view-versus-a-copy\n",
      "  return super().rename(**kwargs)\n"
     ]
    }
   ],
   "source": [
    "# everything in comments I have not converted to Python3 but they don't matter for predicting consumption\n",
    "# you can play around with the stata files and add additional information to predict if you want\n",
    "df = pd.read_stata('../data/input/LSMS/malawi_2016/IHS4 Consumption Aggregate.dta')\n",
    "df['cons'] = df['rexpagg']/(365) # *df['adulteq'])\n",
    "df['cons'] = df['cons']*107.62/(116.28*166.12)\n",
    "df.rename(columns={'hh_wgt': 'weight'}, inplace=True)\n",
    "df = df[['case_id', 'cons', 'weight', 'urban']] # grab these columns\n",
    "\n",
    "df_geo = pd.read_stata('../data/input/LSMS/malawi_2016/HouseholdGeovariables_stata11/HouseholdGeovariablesIHS4.dta')\n",
    "df_cords = df_geo[['case_id', 'HHID', 'lat_modified', 'lon_modified']]\n",
    "df_cords.rename(columns={'lat_modified': 'lat', 'lon_modified': 'lon'}, inplace=True)\n",
    "# mwi13.hha <- read.dta('data/input/LSMS/MWI_2016_IHS-IV_v02_M_Stata/HH_MOD_A_FILT.dta')\n",
    "\n",
    "df_hhf = pd.read_stata('../data/input/LSMS/malawi_2016/HH_MOD_F.dta')\n",
    "# mwi13.room <- data.frame(hhid = mwi13.hhf$HHID, room = mwi13.hhf$hh_f10)\n",
    "# mwi13.metal <- data.frame(hhid = mwi13.hhf$HHID, metal = mwi13.hhf$hh_f10=='IRON SHEETS')"
   ]
  },
  {
   "cell_type": "code",
   "execution_count": 22,
   "metadata": {},
   "outputs": [],
   "source": [
    "df = pd.merge(df, df_cords[['case_id', 'HHID']], on='case_id')"
   ]
  },
  {
   "cell_type": "code",
   "execution_count": 23,
   "metadata": {},
   "outputs": [
    {
     "data": {
      "text/html": [
       "<div>\n",
       "<style scoped>\n",
       "    .dataframe tbody tr th:only-of-type {\n",
       "        vertical-align: middle;\n",
       "    }\n",
       "\n",
       "    .dataframe tbody tr th {\n",
       "        vertical-align: top;\n",
       "    }\n",
       "\n",
       "    .dataframe thead th {\n",
       "        text-align: right;\n",
       "    }\n",
       "</style>\n",
       "<table border=\"1\" class=\"dataframe\">\n",
       "  <thead>\n",
       "    <tr style=\"text-align: right;\">\n",
       "      <th></th>\n",
       "      <th>case_id</th>\n",
       "      <th>cons</th>\n",
       "      <th>weight</th>\n",
       "      <th>urban</th>\n",
       "      <th>HHID</th>\n",
       "    </tr>\n",
       "  </thead>\n",
       "  <tbody>\n",
       "    <tr>\n",
       "      <td>0</td>\n",
       "      <td>301025230225</td>\n",
       "      <td>815.565491</td>\n",
       "      <td>590.332886</td>\n",
       "      <td>RURAL</td>\n",
       "      <td>0001c970eecf473099368557e2080b3e</td>\n",
       "    </tr>\n",
       "    <tr>\n",
       "      <td>1</td>\n",
       "      <td>210374850204</td>\n",
       "      <td>4746.132812</td>\n",
       "      <td>265.032715</td>\n",
       "      <td>URBAN</td>\n",
       "      <td>000509f5cfcc4b078a09672b09425e95</td>\n",
       "    </tr>\n",
       "    <tr>\n",
       "      <td>2</td>\n",
       "      <td>311057710075</td>\n",
       "      <td>1281.518311</td>\n",
       "      <td>207.084106</td>\n",
       "      <td>RURAL</td>\n",
       "      <td>000bc107780044e59327dbf7ec960ac1</td>\n",
       "    </tr>\n",
       "    <tr>\n",
       "      <td>3</td>\n",
       "      <td>312048040073</td>\n",
       "      <td>1059.271973</td>\n",
       "      <td>207.147202</td>\n",
       "      <td>RURAL</td>\n",
       "      <td>000d1d26325d4f73a2ffbb8a99ab4752</td>\n",
       "    </tr>\n",
       "    <tr>\n",
       "      <td>4</td>\n",
       "      <td>311097790117</td>\n",
       "      <td>2277.215088</td>\n",
       "      <td>287.574097</td>\n",
       "      <td>RURAL</td>\n",
       "      <td>00104e33315844fdb2b8c6fdd35912a1</td>\n",
       "    </tr>\n",
       "  </tbody>\n",
       "</table>\n",
       "</div>"
      ],
      "text/plain": [
       "        case_id         cons      weight  urban  \\\n",
       "0  301025230225   815.565491  590.332886  RURAL   \n",
       "1  210374850204  4746.132812  265.032715  URBAN   \n",
       "2  311057710075  1281.518311  207.084106  RURAL   \n",
       "3  312048040073  1059.271973  207.147202  RURAL   \n",
       "4  311097790117  2277.215088  287.574097  RURAL   \n",
       "\n",
       "                               HHID  \n",
       "0  0001c970eecf473099368557e2080b3e  \n",
       "1  000509f5cfcc4b078a09672b09425e95  \n",
       "2  000bc107780044e59327dbf7ec960ac1  \n",
       "3  000d1d26325d4f73a2ffbb8a99ab4752  \n",
       "4  00104e33315844fdb2b8c6fdd35912a1  "
      ]
     },
     "execution_count": 23,
     "metadata": {},
     "output_type": "execute_result"
    }
   ],
   "source": [
    "df.head()"
   ]
  },
  {
   "cell_type": "code",
   "execution_count": 24,
   "metadata": {},
   "outputs": [
    {
     "data": {
      "text/html": [
       "<div>\n",
       "<style scoped>\n",
       "    .dataframe tbody tr th:only-of-type {\n",
       "        vertical-align: middle;\n",
       "    }\n",
       "\n",
       "    .dataframe tbody tr th {\n",
       "        vertical-align: top;\n",
       "    }\n",
       "\n",
       "    .dataframe thead th {\n",
       "        text-align: right;\n",
       "    }\n",
       "</style>\n",
       "<table border=\"1\" class=\"dataframe\">\n",
       "  <thead>\n",
       "    <tr style=\"text-align: right;\">\n",
       "      <th></th>\n",
       "      <th>case_id</th>\n",
       "      <th>HHID</th>\n",
       "      <th>lat</th>\n",
       "      <th>lon</th>\n",
       "    </tr>\n",
       "  </thead>\n",
       "  <tbody>\n",
       "    <tr>\n",
       "      <td>0</td>\n",
       "      <td>301025230225</td>\n",
       "      <td>0001c970eecf473099368557e2080b3e</td>\n",
       "      <td>-14.683761</td>\n",
       "      <td>34.915074</td>\n",
       "    </tr>\n",
       "    <tr>\n",
       "      <td>1</td>\n",
       "      <td>210374850204</td>\n",
       "      <td>000509f5cfcc4b078a09672b09425e95</td>\n",
       "      <td>-14.005029</td>\n",
       "      <td>33.794591</td>\n",
       "    </tr>\n",
       "    <tr>\n",
       "      <td>2</td>\n",
       "      <td>311057710075</td>\n",
       "      <td>000bc107780044e59327dbf7ec960ac1</td>\n",
       "      <td>-16.826165</td>\n",
       "      <td>35.269503</td>\n",
       "    </tr>\n",
       "    <tr>\n",
       "      <td>3</td>\n",
       "      <td>312048040073</td>\n",
       "      <td>000d1d26325d4f73a2ffbb8a99ab4752</td>\n",
       "      <td>-15.004730</td>\n",
       "      <td>35.163219</td>\n",
       "    </tr>\n",
       "    <tr>\n",
       "      <td>4</td>\n",
       "      <td>311097790117</td>\n",
       "      <td>00104e33315844fdb2b8c6fdd35912a1</td>\n",
       "      <td>-17.016698</td>\n",
       "      <td>35.079629</td>\n",
       "    </tr>\n",
       "  </tbody>\n",
       "</table>\n",
       "</div>"
      ],
      "text/plain": [
       "        case_id                              HHID        lat        lon\n",
       "0  301025230225  0001c970eecf473099368557e2080b3e -14.683761  34.915074\n",
       "1  210374850204  000509f5cfcc4b078a09672b09425e95 -14.005029  33.794591\n",
       "2  311057710075  000bc107780044e59327dbf7ec960ac1 -16.826165  35.269503\n",
       "3  312048040073  000d1d26325d4f73a2ffbb8a99ab4752 -15.004730  35.163219\n",
       "4  311097790117  00104e33315844fdb2b8c6fdd35912a1 -17.016698  35.079629"
      ]
     },
     "execution_count": 24,
     "metadata": {},
     "output_type": "execute_result"
    }
   ],
   "source": [
    "df_cords.head()"
   ]
  },
  {
   "cell_type": "code",
   "execution_count": 25,
   "metadata": {},
   "outputs": [],
   "source": [
    "df_combined = pd.merge(df, df_cords, on=['case_id', 'HHID'])"
   ]
  },
  {
   "cell_type": "code",
   "execution_count": 26,
   "metadata": {},
   "outputs": [
    {
     "data": {
      "text/html": [
       "<div>\n",
       "<style scoped>\n",
       "    .dataframe tbody tr th:only-of-type {\n",
       "        vertical-align: middle;\n",
       "    }\n",
       "\n",
       "    .dataframe tbody tr th {\n",
       "        vertical-align: top;\n",
       "    }\n",
       "\n",
       "    .dataframe thead th {\n",
       "        text-align: right;\n",
       "    }\n",
       "</style>\n",
       "<table border=\"1\" class=\"dataframe\">\n",
       "  <thead>\n",
       "    <tr style=\"text-align: right;\">\n",
       "      <th></th>\n",
       "      <th>case_id</th>\n",
       "      <th>cons</th>\n",
       "      <th>weight</th>\n",
       "      <th>urban</th>\n",
       "      <th>HHID</th>\n",
       "      <th>lat</th>\n",
       "      <th>lon</th>\n",
       "    </tr>\n",
       "  </thead>\n",
       "  <tbody>\n",
       "    <tr>\n",
       "      <td>0</td>\n",
       "      <td>301025230225</td>\n",
       "      <td>815.565491</td>\n",
       "      <td>590.332886</td>\n",
       "      <td>RURAL</td>\n",
       "      <td>0001c970eecf473099368557e2080b3e</td>\n",
       "      <td>-14.683761</td>\n",
       "      <td>34.915074</td>\n",
       "    </tr>\n",
       "    <tr>\n",
       "      <td>1</td>\n",
       "      <td>210374850204</td>\n",
       "      <td>4746.132812</td>\n",
       "      <td>265.032715</td>\n",
       "      <td>URBAN</td>\n",
       "      <td>000509f5cfcc4b078a09672b09425e95</td>\n",
       "      <td>-14.005029</td>\n",
       "      <td>33.794591</td>\n",
       "    </tr>\n",
       "    <tr>\n",
       "      <td>2</td>\n",
       "      <td>311057710075</td>\n",
       "      <td>1281.518311</td>\n",
       "      <td>207.084106</td>\n",
       "      <td>RURAL</td>\n",
       "      <td>000bc107780044e59327dbf7ec960ac1</td>\n",
       "      <td>-16.826165</td>\n",
       "      <td>35.269503</td>\n",
       "    </tr>\n",
       "    <tr>\n",
       "      <td>3</td>\n",
       "      <td>312048040073</td>\n",
       "      <td>1059.271973</td>\n",
       "      <td>207.147202</td>\n",
       "      <td>RURAL</td>\n",
       "      <td>000d1d26325d4f73a2ffbb8a99ab4752</td>\n",
       "      <td>-15.004730</td>\n",
       "      <td>35.163219</td>\n",
       "    </tr>\n",
       "    <tr>\n",
       "      <td>4</td>\n",
       "      <td>311097790117</td>\n",
       "      <td>2277.215088</td>\n",
       "      <td>287.574097</td>\n",
       "      <td>RURAL</td>\n",
       "      <td>00104e33315844fdb2b8c6fdd35912a1</td>\n",
       "      <td>-17.016698</td>\n",
       "      <td>35.079629</td>\n",
       "    </tr>\n",
       "  </tbody>\n",
       "</table>\n",
       "</div>"
      ],
      "text/plain": [
       "        case_id         cons      weight  urban  \\\n",
       "0  301025230225   815.565491  590.332886  RURAL   \n",
       "1  210374850204  4746.132812  265.032715  URBAN   \n",
       "2  311057710075  1281.518311  207.084106  RURAL   \n",
       "3  312048040073  1059.271973  207.147202  RURAL   \n",
       "4  311097790117  2277.215088  287.574097  RURAL   \n",
       "\n",
       "                               HHID        lat        lon  \n",
       "0  0001c970eecf473099368557e2080b3e -14.683761  34.915074  \n",
       "1  000509f5cfcc4b078a09672b09425e95 -14.005029  33.794591  \n",
       "2  000bc107780044e59327dbf7ec960ac1 -16.826165  35.269503  \n",
       "3  000d1d26325d4f73a2ffbb8a99ab4752 -15.004730  35.163219  \n",
       "4  00104e33315844fdb2b8c6fdd35912a1 -17.016698  35.079629  "
      ]
     },
     "execution_count": 26,
     "metadata": {},
     "output_type": "execute_result"
    }
   ],
   "source": [
    "df_combined.head()"
   ]
  },
  {
   "cell_type": "code",
   "execution_count": 27,
   "metadata": {},
   "outputs": [],
   "source": [
    "df_combined.drop('case_id', axis=1, inplace=True)"
   ]
  },
  {
   "cell_type": "code",
   "execution_count": 28,
   "metadata": {},
   "outputs": [
    {
     "data": {
      "text/html": [
       "<div>\n",
       "<style scoped>\n",
       "    .dataframe tbody tr th:only-of-type {\n",
       "        vertical-align: middle;\n",
       "    }\n",
       "\n",
       "    .dataframe tbody tr th {\n",
       "        vertical-align: top;\n",
       "    }\n",
       "\n",
       "    .dataframe thead th {\n",
       "        text-align: right;\n",
       "    }\n",
       "</style>\n",
       "<table border=\"1\" class=\"dataframe\">\n",
       "  <thead>\n",
       "    <tr style=\"text-align: right;\">\n",
       "      <th></th>\n",
       "      <th>cons</th>\n",
       "      <th>weight</th>\n",
       "      <th>urban</th>\n",
       "      <th>HHID</th>\n",
       "      <th>lat</th>\n",
       "      <th>lon</th>\n",
       "    </tr>\n",
       "  </thead>\n",
       "  <tbody>\n",
       "    <tr>\n",
       "      <td>0</td>\n",
       "      <td>815.565491</td>\n",
       "      <td>590.332886</td>\n",
       "      <td>RURAL</td>\n",
       "      <td>0001c970eecf473099368557e2080b3e</td>\n",
       "      <td>-14.683761</td>\n",
       "      <td>34.915074</td>\n",
       "    </tr>\n",
       "    <tr>\n",
       "      <td>1</td>\n",
       "      <td>4746.132812</td>\n",
       "      <td>265.032715</td>\n",
       "      <td>URBAN</td>\n",
       "      <td>000509f5cfcc4b078a09672b09425e95</td>\n",
       "      <td>-14.005029</td>\n",
       "      <td>33.794591</td>\n",
       "    </tr>\n",
       "    <tr>\n",
       "      <td>2</td>\n",
       "      <td>1281.518311</td>\n",
       "      <td>207.084106</td>\n",
       "      <td>RURAL</td>\n",
       "      <td>000bc107780044e59327dbf7ec960ac1</td>\n",
       "      <td>-16.826165</td>\n",
       "      <td>35.269503</td>\n",
       "    </tr>\n",
       "    <tr>\n",
       "      <td>3</td>\n",
       "      <td>1059.271973</td>\n",
       "      <td>207.147202</td>\n",
       "      <td>RURAL</td>\n",
       "      <td>000d1d26325d4f73a2ffbb8a99ab4752</td>\n",
       "      <td>-15.004730</td>\n",
       "      <td>35.163219</td>\n",
       "    </tr>\n",
       "    <tr>\n",
       "      <td>4</td>\n",
       "      <td>2277.215088</td>\n",
       "      <td>287.574097</td>\n",
       "      <td>RURAL</td>\n",
       "      <td>00104e33315844fdb2b8c6fdd35912a1</td>\n",
       "      <td>-17.016698</td>\n",
       "      <td>35.079629</td>\n",
       "    </tr>\n",
       "  </tbody>\n",
       "</table>\n",
       "</div>"
      ],
      "text/plain": [
       "          cons      weight  urban                              HHID  \\\n",
       "0   815.565491  590.332886  RURAL  0001c970eecf473099368557e2080b3e   \n",
       "1  4746.132812  265.032715  URBAN  000509f5cfcc4b078a09672b09425e95   \n",
       "2  1281.518311  207.084106  RURAL  000bc107780044e59327dbf7ec960ac1   \n",
       "3  1059.271973  207.147202  RURAL  000d1d26325d4f73a2ffbb8a99ab4752   \n",
       "4  2277.215088  287.574097  RURAL  00104e33315844fdb2b8c6fdd35912a1   \n",
       "\n",
       "         lat        lon  \n",
       "0 -14.683761  34.915074  \n",
       "1 -14.005029  33.794591  \n",
       "2 -16.826165  35.269503  \n",
       "3 -15.004730  35.163219  \n",
       "4 -17.016698  35.079629  "
      ]
     },
     "execution_count": 28,
     "metadata": {},
     "output_type": "execute_result"
    }
   ],
   "source": [
    "df_combined.dropna(inplace=True) # can't use na values\n",
    "df_combined.head()"
   ]
  },
  {
   "cell_type": "code",
   "execution_count": 29,
   "metadata": {},
   "outputs": [
    {
     "data": {
      "text/plain": [
       "(12444, 6)"
      ]
     },
     "execution_count": 29,
     "metadata": {},
     "output_type": "execute_result"
    }
   ],
   "source": [
    "df_combined.shape"
   ]
  },
  {
   "cell_type": "code",
   "execution_count": 30,
   "metadata": {},
   "outputs": [],
   "source": [
    "clust_cons_avg = df_combined.groupby(['lat', 'lon']).mean().reset_index()[['lat', 'lon', 'cons']]"
   ]
  },
  {
   "cell_type": "code",
   "execution_count": 31,
   "metadata": {},
   "outputs": [
    {
     "data": {
      "text/html": [
       "<div>\n",
       "<style scoped>\n",
       "    .dataframe tbody tr th:only-of-type {\n",
       "        vertical-align: middle;\n",
       "    }\n",
       "\n",
       "    .dataframe tbody tr th {\n",
       "        vertical-align: top;\n",
       "    }\n",
       "\n",
       "    .dataframe thead th {\n",
       "        text-align: right;\n",
       "    }\n",
       "</style>\n",
       "<table border=\"1\" class=\"dataframe\">\n",
       "  <thead>\n",
       "    <tr style=\"text-align: right;\">\n",
       "      <th></th>\n",
       "      <th>lat</th>\n",
       "      <th>lon</th>\n",
       "      <th>cons</th>\n",
       "    </tr>\n",
       "  </thead>\n",
       "  <tbody>\n",
       "    <tr>\n",
       "      <td>0</td>\n",
       "      <td>-17.095150</td>\n",
       "      <td>35.217213</td>\n",
       "      <td>1512.136108</td>\n",
       "    </tr>\n",
       "    <tr>\n",
       "      <td>1</td>\n",
       "      <td>-17.092351</td>\n",
       "      <td>35.114643</td>\n",
       "      <td>1192.031128</td>\n",
       "    </tr>\n",
       "    <tr>\n",
       "      <td>2</td>\n",
       "      <td>-17.016698</td>\n",
       "      <td>35.079629</td>\n",
       "      <td>1643.665283</td>\n",
       "    </tr>\n",
       "    <tr>\n",
       "      <td>3</td>\n",
       "      <td>-16.977243</td>\n",
       "      <td>35.205706</td>\n",
       "      <td>1481.665039</td>\n",
       "    </tr>\n",
       "    <tr>\n",
       "      <td>4</td>\n",
       "      <td>-16.956385</td>\n",
       "      <td>35.168967</td>\n",
       "      <td>894.125977</td>\n",
       "    </tr>\n",
       "  </tbody>\n",
       "</table>\n",
       "</div>"
      ],
      "text/plain": [
       "         lat        lon         cons\n",
       "0 -17.095150  35.217213  1512.136108\n",
       "1 -17.092351  35.114643  1192.031128\n",
       "2 -17.016698  35.079629  1643.665283\n",
       "3 -16.977243  35.205706  1481.665039\n",
       "4 -16.956385  35.168967   894.125977"
      ]
     },
     "execution_count": 31,
     "metadata": {},
     "output_type": "execute_result"
    }
   ],
   "source": [
    "clust_cons_avg.head()"
   ]
  },
  {
   "cell_type": "code",
   "execution_count": 32,
   "metadata": {},
   "outputs": [],
   "source": [
    "df_combined = pd.merge(df_combined.drop('cons', axis=1), clust_cons_avg, on=['lat', 'lon'])"
   ]
  },
  {
   "cell_type": "code",
   "execution_count": 33,
   "metadata": {},
   "outputs": [
    {
     "data": {
      "text/html": [
       "<div>\n",
       "<style scoped>\n",
       "    .dataframe tbody tr th:only-of-type {\n",
       "        vertical-align: middle;\n",
       "    }\n",
       "\n",
       "    .dataframe tbody tr th {\n",
       "        vertical-align: top;\n",
       "    }\n",
       "\n",
       "    .dataframe thead th {\n",
       "        text-align: right;\n",
       "    }\n",
       "</style>\n",
       "<table border=\"1\" class=\"dataframe\">\n",
       "  <thead>\n",
       "    <tr style=\"text-align: right;\">\n",
       "      <th></th>\n",
       "      <th>weight</th>\n",
       "      <th>urban</th>\n",
       "      <th>HHID</th>\n",
       "      <th>lat</th>\n",
       "      <th>lon</th>\n",
       "      <th>cons</th>\n",
       "    </tr>\n",
       "  </thead>\n",
       "  <tbody>\n",
       "    <tr>\n",
       "      <td>0</td>\n",
       "      <td>590.332886</td>\n",
       "      <td>RURAL</td>\n",
       "      <td>0001c970eecf473099368557e2080b3e</td>\n",
       "      <td>-14.683761</td>\n",
       "      <td>34.915074</td>\n",
       "      <td>997.934204</td>\n",
       "    </tr>\n",
       "    <tr>\n",
       "      <td>1</td>\n",
       "      <td>590.332886</td>\n",
       "      <td>RURAL</td>\n",
       "      <td>2ca0d2ca3d714176963cc05e0c3f13e8</td>\n",
       "      <td>-14.683761</td>\n",
       "      <td>34.915074</td>\n",
       "      <td>997.934204</td>\n",
       "    </tr>\n",
       "    <tr>\n",
       "      <td>2</td>\n",
       "      <td>590.332886</td>\n",
       "      <td>RURAL</td>\n",
       "      <td>3c46ce7e9bfd4ef895f8c10685d63c62</td>\n",
       "      <td>-14.683761</td>\n",
       "      <td>34.915074</td>\n",
       "      <td>997.934204</td>\n",
       "    </tr>\n",
       "    <tr>\n",
       "      <td>3</td>\n",
       "      <td>590.332886</td>\n",
       "      <td>RURAL</td>\n",
       "      <td>3cdeb682067949cb973d17f6f5bf3221</td>\n",
       "      <td>-14.683761</td>\n",
       "      <td>34.915074</td>\n",
       "      <td>997.934204</td>\n",
       "    </tr>\n",
       "    <tr>\n",
       "      <td>4</td>\n",
       "      <td>590.332886</td>\n",
       "      <td>RURAL</td>\n",
       "      <td>52c072d210344f518716dd6822a20e6b</td>\n",
       "      <td>-14.683761</td>\n",
       "      <td>34.915074</td>\n",
       "      <td>997.934204</td>\n",
       "    </tr>\n",
       "  </tbody>\n",
       "</table>\n",
       "</div>"
      ],
      "text/plain": [
       "       weight  urban                              HHID        lat        lon  \\\n",
       "0  590.332886  RURAL  0001c970eecf473099368557e2080b3e -14.683761  34.915074   \n",
       "1  590.332886  RURAL  2ca0d2ca3d714176963cc05e0c3f13e8 -14.683761  34.915074   \n",
       "2  590.332886  RURAL  3c46ce7e9bfd4ef895f8c10685d63c62 -14.683761  34.915074   \n",
       "3  590.332886  RURAL  3cdeb682067949cb973d17f6f5bf3221 -14.683761  34.915074   \n",
       "4  590.332886  RURAL  52c072d210344f518716dd6822a20e6b -14.683761  34.915074   \n",
       "\n",
       "         cons  \n",
       "0  997.934204  \n",
       "1  997.934204  \n",
       "2  997.934204  \n",
       "3  997.934204  \n",
       "4  997.934204  "
      ]
     },
     "execution_count": 33,
     "metadata": {},
     "output_type": "execute_result"
    }
   ],
   "source": [
    "df_combined.head()"
   ]
  },
  {
   "cell_type": "code",
   "execution_count": 34,
   "metadata": {},
   "outputs": [
    {
     "data": {
      "text/plain": [
       "(780, 6)"
      ]
     },
     "execution_count": 34,
     "metadata": {},
     "output_type": "execute_result"
    }
   ],
   "source": [
    "df_uniques = df_combined.drop_duplicates(subset=['lat', 'lon']); df_uniques.shape"
   ]
  },
  {
   "cell_type": "code",
   "execution_count": 36,
   "metadata": {},
   "outputs": [],
   "source": [
    "df_uniques[['lat', 'lon', 'cons']].to_csv('new.csv', index=False)"
   ]
  },
  {
   "cell_type": "code",
   "execution_count": null,
   "metadata": {},
   "outputs": [],
   "source": []
  },
  {
   "cell_type": "markdown",
   "metadata": {},
   "source": [
    "This shows how we can use the .tif file that we downloaded to get nightlight values."
   ]
  },
  {
   "cell_type": "code",
   "execution_count": null,
   "metadata": {},
   "outputs": [],
   "source": []
  },
  {
   "cell_type": "code",
   "execution_count": 1,
   "metadata": {},
   "outputs": [
    {
     "name": "stdout",
     "output_type": "stream",
     "text": [
      "\n"
     ]
    }
   ],
   "source": [
    "import geoio\n",
    "filename = '../data/input/Nightlights/2013/F182013.v4c_web.stable_lights.avg_vis.tif'\n",
    "img = geoio.GeoImage(filename)\n",
    "xPixel, yPixel = img.proj_to_raster(34.915074, -14.683761)"
   ]
  },
  {
   "cell_type": "code",
   "execution_count": 17,
   "metadata": {},
   "outputs": [
    {
     "data": {
      "text/plain": [
       "(25790.308983159237, 10762.551363048204)"
      ]
     },
     "execution_count": 17,
     "metadata": {},
     "output_type": "execute_result"
    }
   ],
   "source": [
    "xPixel, yPixel"
   ]
  },
  {
   "cell_type": "code",
   "execution_count": 18,
   "metadata": {},
   "outputs": [],
   "source": [
    "im_array = np.squeeze(img.get_data())"
   ]
  },
  {
   "cell_type": "code",
   "execution_count": 19,
   "metadata": {},
   "outputs": [
    {
     "data": {
      "text/plain": [
       "(16801, 43201)"
      ]
     },
     "execution_count": 19,
     "metadata": {},
     "output_type": "execute_result"
    }
   ],
   "source": [
    "im_array.shape"
   ]
  },
  {
   "cell_type": "code",
   "execution_count": 20,
   "metadata": {},
   "outputs": [
    {
     "data": {
      "text/plain": [
       "0"
      ]
     },
     "execution_count": 20,
     "metadata": {},
     "output_type": "execute_result"
    }
   ],
   "source": [
    "im_array[int(yPixel),int(xPixel)] # this is how we grab the nightlight values!"
   ]
  },
  {
   "cell_type": "code",
   "execution_count": 21,
   "metadata": {},
   "outputs": [],
   "source": [
    "import math\n",
    "\n",
    "def create_space(lat, lon):\n",
    "    # these are pulled from the paper to make the 10km^2 area\n",
    "    return lat - (180/math.pi)*(5000/6378137), lon - (180/math.pi)*(5000/6378137)/math.cos(lat), \\\n",
    "            lat + (180/math.pi)*(5000/6378137), lon + (180/math.pi)*(5000/6378137)/math.cos(lat)"
   ]
  },
  {
   "cell_type": "code",
   "execution_count": 22,
   "metadata": {},
   "outputs": [],
   "source": [
    "household_nightlights = []\n",
    "for i,r in df_uniques.iterrows():\n",
    "    min_lat, min_lon, max_lat, max_lon = create_space(r.lat, r.lon)\n",
    "    xminPixel, yminPixel = img.proj_to_raster(min_lon, min_lat)\n",
    "    xmaxPixel, ymaxPixel = img.proj_to_raster(max_lon, max_lat)\n",
    "    \n",
    "    xminPixel, xmaxPixel = min(xminPixel, xmaxPixel), max(xminPixel, xmaxPixel)\n",
    "    yminPixel, ymaxPixel = min(yminPixel, ymaxPixel), max(yminPixel, ymaxPixel)\n",
    "    \n",
    "    xminPixel, yminPixel, xmaxPixel, ymaxPixel = int(xminPixel), int(yminPixel), int(xmaxPixel), int(ymaxPixel)\n",
    "    household_nightlights.append(im_array[yminPixel:ymaxPixel,xminPixel:xmaxPixel].mean())"
   ]
  },
  {
   "cell_type": "code",
   "execution_count": 23,
   "metadata": {},
   "outputs": [
    {
     "name": "stderr",
     "output_type": "stream",
     "text": [
      "/home/jupyter/.local/lib/python3.7/site-packages/ipykernel_launcher.py:1: SettingWithCopyWarning:\n",
      "\n",
      "\n",
      "A value is trying to be set on a copy of a slice from a DataFrame.\n",
      "Try using .loc[row_indexer,col_indexer] = value instead\n",
      "\n",
      "See the caveats in the documentation: http://pandas.pydata.org/pandas-docs/stable/user_guide/indexing.html#returning-a-view-versus-a-copy\n",
      "\n"
     ]
    }
   ],
   "source": [
    "df_uniques['nightlights'] = household_nightlights"
   ]
  },
  {
   "cell_type": "code",
   "execution_count": 24,
   "metadata": {},
   "outputs": [],
   "source": [
    "os.makedirs('../data/output', exist_ok=True)\n",
    "os.makedirs('../data/output/LSMS', exist_ok=True)\n",
    "os.makedirs('../data/output/LSMS/malawi_2016/', exist_ok=True)"
   ]
  },
  {
   "cell_type": "code",
   "execution_count": 25,
   "metadata": {},
   "outputs": [],
   "source": [
    "df_combined = pd.merge(df_combined, df_uniques[['lat', 'lon', 'nightlights']], on=['lat', 'lon'])"
   ]
  },
  {
   "cell_type": "code",
   "execution_count": 26,
   "metadata": {},
   "outputs": [
    {
     "data": {
      "text/html": [
       "<div>\n",
       "<style scoped>\n",
       "    .dataframe tbody tr th:only-of-type {\n",
       "        vertical-align: middle;\n",
       "    }\n",
       "\n",
       "    .dataframe tbody tr th {\n",
       "        vertical-align: top;\n",
       "    }\n",
       "\n",
       "    .dataframe thead th {\n",
       "        text-align: right;\n",
       "    }\n",
       "</style>\n",
       "<table border=\"1\" class=\"dataframe\">\n",
       "  <thead>\n",
       "    <tr style=\"text-align: right;\">\n",
       "      <th></th>\n",
       "      <th>weight</th>\n",
       "      <th>urban</th>\n",
       "      <th>HHID</th>\n",
       "      <th>lat</th>\n",
       "      <th>lon</th>\n",
       "      <th>cons</th>\n",
       "      <th>nightlights</th>\n",
       "    </tr>\n",
       "  </thead>\n",
       "  <tbody>\n",
       "    <tr>\n",
       "      <th>0</th>\n",
       "      <td>590.332886</td>\n",
       "      <td>RURAL</td>\n",
       "      <td>0001c970eecf473099368557e2080b3e</td>\n",
       "      <td>-14.683761</td>\n",
       "      <td>34.915074</td>\n",
       "      <td>2.177948</td>\n",
       "      <td>0.0</td>\n",
       "    </tr>\n",
       "    <tr>\n",
       "      <th>1</th>\n",
       "      <td>590.332886</td>\n",
       "      <td>RURAL</td>\n",
       "      <td>2ca0d2ca3d714176963cc05e0c3f13e8</td>\n",
       "      <td>-14.683761</td>\n",
       "      <td>34.915074</td>\n",
       "      <td>2.177948</td>\n",
       "      <td>0.0</td>\n",
       "    </tr>\n",
       "    <tr>\n",
       "      <th>2</th>\n",
       "      <td>590.332886</td>\n",
       "      <td>RURAL</td>\n",
       "      <td>3c46ce7e9bfd4ef895f8c10685d63c62</td>\n",
       "      <td>-14.683761</td>\n",
       "      <td>34.915074</td>\n",
       "      <td>2.177948</td>\n",
       "      <td>0.0</td>\n",
       "    </tr>\n",
       "    <tr>\n",
       "      <th>3</th>\n",
       "      <td>590.332886</td>\n",
       "      <td>RURAL</td>\n",
       "      <td>3cdeb682067949cb973d17f6f5bf3221</td>\n",
       "      <td>-14.683761</td>\n",
       "      <td>34.915074</td>\n",
       "      <td>2.177948</td>\n",
       "      <td>0.0</td>\n",
       "    </tr>\n",
       "    <tr>\n",
       "      <th>4</th>\n",
       "      <td>590.332886</td>\n",
       "      <td>RURAL</td>\n",
       "      <td>52c072d210344f518716dd6822a20e6b</td>\n",
       "      <td>-14.683761</td>\n",
       "      <td>34.915074</td>\n",
       "      <td>2.177948</td>\n",
       "      <td>0.0</td>\n",
       "    </tr>\n",
       "  </tbody>\n",
       "</table>\n",
       "</div>"
      ],
      "text/plain": [
       "       weight  urban                              HHID        lat        lon  \\\n",
       "0  590.332886  RURAL  0001c970eecf473099368557e2080b3e -14.683761  34.915074   \n",
       "1  590.332886  RURAL  2ca0d2ca3d714176963cc05e0c3f13e8 -14.683761  34.915074   \n",
       "2  590.332886  RURAL  3c46ce7e9bfd4ef895f8c10685d63c62 -14.683761  34.915074   \n",
       "3  590.332886  RURAL  3cdeb682067949cb973d17f6f5bf3221 -14.683761  34.915074   \n",
       "4  590.332886  RURAL  52c072d210344f518716dd6822a20e6b -14.683761  34.915074   \n",
       "\n",
       "       cons  nightlights  \n",
       "0  2.177948          0.0  \n",
       "1  2.177948          0.0  \n",
       "2  2.177948          0.0  \n",
       "3  2.177948          0.0  \n",
       "4  2.177948          0.0  "
      ]
     },
     "execution_count": 26,
     "metadata": {},
     "output_type": "execute_result"
    }
   ],
   "source": [
    "df_combined.head()"
   ]
  },
  {
   "cell_type": "code",
   "execution_count": 27,
   "metadata": {},
   "outputs": [],
   "source": [
    "df_combined.to_csv('../data/output/LSMS/malawi_2016/Malawi-2016-LSMS-Household.csv', index=False)"
   ]
  },
  {
   "cell_type": "code",
   "execution_count": 28,
   "metadata": {},
   "outputs": [
    {
     "data": {
      "text/plain": [
       "(12444, 7)"
      ]
     },
     "execution_count": 28,
     "metadata": {},
     "output_type": "execute_result"
    }
   ],
   "source": [
    "df_combined.shape"
   ]
  },
  {
   "cell_type": "code",
   "execution_count": 29,
   "metadata": {},
   "outputs": [],
   "source": [
    "# encode \"RURAL\" as 0 and \"URBAN\" as 1\n",
    "df_combined['urban_encoded'] = pd.factorize(df_combined['urban'])[0]"
   ]
  },
  {
   "cell_type": "code",
   "execution_count": 30,
   "metadata": {},
   "outputs": [],
   "source": [
    "clust_groups = df_combined.groupby(['lat', 'lon'])"
   ]
  },
  {
   "cell_type": "code",
   "execution_count": 31,
   "metadata": {},
   "outputs": [],
   "source": [
    "clust_averages = clust_groups.mean().reset_index()"
   ]
  },
  {
   "cell_type": "code",
   "execution_count": 32,
   "metadata": {},
   "outputs": [],
   "source": [
    "counts = clust_groups.count().reset_index()[['lat', 'lon', 'cons']]\n",
    "counts.rename(columns={'cons': 'num_households'}, inplace=True)\n",
    "clust_averages = pd.merge(clust_averages, counts, on=['lat', 'lon'])"
   ]
  },
  {
   "cell_type": "code",
   "execution_count": 33,
   "metadata": {},
   "outputs": [],
   "source": [
    "# if more than 0.5 average within a clust, label it as 1 (URBAN), else 0\n",
    "clust_averages['urban_encoded'] = clust_averages['urban_encoded'].apply(lambda x: round(x))"
   ]
  },
  {
   "cell_type": "code",
   "execution_count": 34,
   "metadata": {},
   "outputs": [],
   "source": [
    "clust_averages['urban_encoded'] = clust_averages['urban_encoded'].apply(lambda x: 'RURAL' if x == 0 else 'URBAN')"
   ]
  },
  {
   "cell_type": "code",
   "execution_count": 35,
   "metadata": {},
   "outputs": [],
   "source": [
    "clust_averages.rename(columns={'urban_encoded': 'urban'}, inplace=True)"
   ]
  },
  {
   "cell_type": "code",
   "execution_count": 36,
   "metadata": {},
   "outputs": [
    {
     "data": {
      "text/html": [
       "<div>\n",
       "<style scoped>\n",
       "    .dataframe tbody tr th:only-of-type {\n",
       "        vertical-align: middle;\n",
       "    }\n",
       "\n",
       "    .dataframe tbody tr th {\n",
       "        vertical-align: top;\n",
       "    }\n",
       "\n",
       "    .dataframe thead th {\n",
       "        text-align: right;\n",
       "    }\n",
       "</style>\n",
       "<table border=\"1\" class=\"dataframe\">\n",
       "  <thead>\n",
       "    <tr style=\"text-align: right;\">\n",
       "      <th></th>\n",
       "      <th>lat</th>\n",
       "      <th>lon</th>\n",
       "      <th>weight</th>\n",
       "      <th>cons</th>\n",
       "      <th>nightlights</th>\n",
       "      <th>urban</th>\n",
       "      <th>num_households</th>\n",
       "    </tr>\n",
       "  </thead>\n",
       "  <tbody>\n",
       "    <tr>\n",
       "      <th>0</th>\n",
       "      <td>-17.095150</td>\n",
       "      <td>35.217213</td>\n",
       "      <td>189.106400</td>\n",
       "      <td>2.039307</td>\n",
       "      <td>0.000000</td>\n",
       "      <td>RURAL</td>\n",
       "      <td>16</td>\n",
       "    </tr>\n",
       "    <tr>\n",
       "      <th>1</th>\n",
       "      <td>-17.092351</td>\n",
       "      <td>35.114643</td>\n",
       "      <td>165.955505</td>\n",
       "      <td>2.268112</td>\n",
       "      <td>0.000000</td>\n",
       "      <td>RURAL</td>\n",
       "      <td>16</td>\n",
       "    </tr>\n",
       "    <tr>\n",
       "      <th>2</th>\n",
       "      <td>-17.016698</td>\n",
       "      <td>35.079629</td>\n",
       "      <td>287.574097</td>\n",
       "      <td>2.336784</td>\n",
       "      <td>0.000000</td>\n",
       "      <td>RURAL</td>\n",
       "      <td>16</td>\n",
       "    </tr>\n",
       "    <tr>\n",
       "      <th>3</th>\n",
       "      <td>-16.977243</td>\n",
       "      <td>35.205706</td>\n",
       "      <td>223.751495</td>\n",
       "      <td>2.497626</td>\n",
       "      <td>0.121212</td>\n",
       "      <td>RURAL</td>\n",
       "      <td>16</td>\n",
       "    </tr>\n",
       "    <tr>\n",
       "      <th>4</th>\n",
       "      <td>-16.956385</td>\n",
       "      <td>35.168967</td>\n",
       "      <td>172.602493</td>\n",
       "      <td>1.688760</td>\n",
       "      <td>0.502674</td>\n",
       "      <td>RURAL</td>\n",
       "      <td>16</td>\n",
       "    </tr>\n",
       "  </tbody>\n",
       "</table>\n",
       "</div>"
      ],
      "text/plain": [
       "         lat        lon      weight      cons  nightlights  urban  \\\n",
       "0 -17.095150  35.217213  189.106400  2.039307     0.000000  RURAL   \n",
       "1 -17.092351  35.114643  165.955505  2.268112     0.000000  RURAL   \n",
       "2 -17.016698  35.079629  287.574097  2.336784     0.000000  RURAL   \n",
       "3 -16.977243  35.205706  223.751495  2.497626     0.121212  RURAL   \n",
       "4 -16.956385  35.168967  172.602493  1.688760     0.502674  RURAL   \n",
       "\n",
       "   num_households  \n",
       "0              16  \n",
       "1              16  \n",
       "2              16  \n",
       "3              16  \n",
       "4              16  "
      ]
     },
     "execution_count": 36,
     "metadata": {},
     "output_type": "execute_result"
    }
   ],
   "source": [
    "clust_averages.head()"
   ]
  },
  {
   "cell_type": "code",
   "execution_count": 37,
   "metadata": {},
   "outputs": [],
   "source": [
    "clust_averages.to_csv('../data/output/LSMS/malawi_2016/Malawi-2016-LSMS-Cluster.csv', index=False)"
   ]
  },
  {
   "cell_type": "markdown",
   "metadata": {},
   "source": [
    "Create npy files"
   ]
  },
  {
   "cell_type": "code",
   "execution_count": 38,
   "metadata": {},
   "outputs": [],
   "source": [
    "np.save('../data/output/LSMS/malawi_2016/lats.npy', clust_averages['lat'].values)\n",
    "np.save('../data/output/LSMS/malawi_2016/lons.npy', clust_averages['lon'].values)\n",
    "np.save('../data/output/LSMS/malawi_2016/consumptions.npy', clust_averages['cons'].values)\n",
    "np.save('../data/output/LSMS/malawi_2016/nightlights.npy', clust_averages['nightlights'].values)\n",
    "np.save('../data/output/LSMS/malawi_2016/households.npy', clust_averages['num_households'].values)"
   ]
  },
  {
   "cell_type": "code",
   "execution_count": null,
   "metadata": {},
   "outputs": [],
   "source": []
  }
 ],
 "metadata": {
  "kernelspec": {
   "display_name": "Python 3",
   "language": "python",
   "name": "python3"
  },
  "language_info": {
   "codemirror_mode": {
    "name": "ipython",
    "version": 3
   },
   "file_extension": ".py",
   "mimetype": "text/x-python",
   "name": "python",
   "nbconvert_exporter": "python",
   "pygments_lexer": "ipython3",
   "version": "3.7.3"
  }
 },
 "nbformat": 4,
 "nbformat_minor": 2
}
